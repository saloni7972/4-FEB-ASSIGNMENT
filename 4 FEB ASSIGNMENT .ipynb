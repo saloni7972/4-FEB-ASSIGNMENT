{
 "cells": [
  {
   "cell_type": "markdown",
   "id": "3e02ac06-4718-4082-b3a0-fa9d9b8c1b01",
   "metadata": {},
   "source": [
    "# 4 FEB ASSIGNMENT"
   ]
  },
  {
   "cell_type": "markdown",
   "id": "175ce372-f4cb-49e6-b956-211b1f5a2563",
   "metadata": {},
   "source": [
    "#Q.1  Creat a python program to sort the given list of tuples based on integer value using a lambda function.\n",
    "[('sachin Tendulkar',34357),('Ricky Ponting',27483),('Jack Kallis',25534),('Virat Kohli',34936)]"
   ]
  },
  {
   "cell_type": "code",
   "execution_count": null,
   "id": "0a1fd060-55e5-4992-bee2-1e570c8c9f6d",
   "metadata": {},
   "outputs": [],
   "source": [
    "l=[('sachin Tendulkar',34357),('Ricky Ponting',27483),('Jack Kallis',25534),('Virat Kohli',34936)]"
   ]
  },
  {
   "cell_type": "code",
   "execution_count": 2,
   "id": "43140f84-3b61-433c-8004-a6cc66497219",
   "metadata": {},
   "outputs": [
    {
     "data": {
      "text/plain": [
       "[('Sachin Tendulkar', 34357),\n",
       " ('Ricky Ponting', 27483),\n",
       " ('Jack Kallis', 25534),\n",
       " ('Virat Kohli', 34936)]"
      ]
     },
     "execution_count": 2,
     "metadata": {},
     "output_type": "execute_result"
    }
   ],
   "source": [
    "l"
   ]
  },
  {
   "cell_type": "code",
   "execution_count": 3,
   "id": "667afd21-cb40-4488-aeeb-9bfcd56f0169",
   "metadata": {},
   "outputs": [],
   "source": [
    "l.sort(key=lambda x:x[1])"
   ]
  },
  {
   "cell_type": "code",
   "execution_count": 4,
   "id": "50bd6e23-1f98-4501-8de8-65ea1be07492",
   "metadata": {},
   "outputs": [
    {
     "name": "stdout",
     "output_type": "stream",
     "text": [
      "[('Jack Kallis', 25534), ('Ricky Ponting', 27483), ('Sachin Tendulkar', 34357), ('Virat Kohli', 34936)]\n"
     ]
    }
   ],
   "source": [
    "print(l)"
   ]
  },
  {
   "cell_type": "markdown",
   "id": "2ba18e0d-0300-41cc-96e5-ea63ea03b83c",
   "metadata": {},
   "source": [
    "Q.2 Write the python programm to find the squares of all the numbers in given list of integer using lambda and map function"
   ]
  },
  {
   "cell_type": "code",
   "execution_count": 5,
   "id": "93bdf4be-0c2b-46fe-8f7c-a1a921d92d2b",
   "metadata": {},
   "outputs": [],
   "source": [
    "q=[1,2,3,4,5,6,7,8,9,10]"
   ]
  },
  {
   "cell_type": "code",
   "execution_count": 6,
   "id": "1ee72ddb-b75c-43a3-b925-502f9a410783",
   "metadata": {},
   "outputs": [
    {
     "data": {
      "text/plain": [
       "[1, 4, 9, 16, 25, 36, 49, 64, 81, 100]"
      ]
     },
     "execution_count": 6,
     "metadata": {},
     "output_type": "execute_result"
    }
   ],
   "source": [
    "list(map(lambda x:x**2 ,q))"
   ]
  },
  {
   "cell_type": "markdown",
   "id": "049f9242-1d67-40f6-839d-43f548e16525",
   "metadata": {},
   "source": [
    "Q.3 Write the python programm to convert the given list of integer into a tuple of strings. Use map and lambda function\n",
    "Given string:[1,2,3,4,5,6,7,8,9,10]\n",
    "Expected output:['1','2','3','4','5','6','7','8','9','10']"
   ]
  },
  {
   "cell_type": "code",
   "execution_count": 7,
   "id": "baa92ced-ffbc-47d2-8328-731004644a5f",
   "metadata": {},
   "outputs": [],
   "source": [
    "r=[1,2,3,4,5,6,7,8,9,10]"
   ]
  },
  {
   "cell_type": "code",
   "execution_count": 9,
   "id": "a3e654a5-aa13-46ba-9192-9b48e11a70ff",
   "metadata": {},
   "outputs": [],
   "source": [
    "t=list(map(str ,r))"
   ]
  },
  {
   "cell_type": "code",
   "execution_count": 10,
   "id": "ac1b835f-74e7-4a38-bd07-a237c3d21df2",
   "metadata": {},
   "outputs": [
    {
     "data": {
      "text/plain": [
       "['1', '2', '3', '4', '5', '6', '7', '8', '9', '10']"
      ]
     },
     "execution_count": 10,
     "metadata": {},
     "output_type": "execute_result"
    }
   ],
   "source": [
    "t"
   ]
  },
  {
   "cell_type": "code",
   "execution_count": 11,
   "id": "e156c299-7642-4c7d-85e5-3fbb75364ebb",
   "metadata": {},
   "outputs": [
    {
     "data": {
      "text/plain": [
       "('1', '2', '3', '4', '5', '6', '7', '8', '9', '10')"
      ]
     },
     "execution_count": 11,
     "metadata": {},
     "output_type": "execute_result"
    }
   ],
   "source": [
    "tuple(t)"
   ]
  },
  {
   "cell_type": "markdown",
   "id": "5f850b93-ae90-4e0d-afd2-04178b0429a1",
   "metadata": {},
   "source": [
    "Q.4 Write a python program using reduce function to compute the product of a list containing numbers from 1 to 25"
   ]
  },
  {
   "cell_type": "code",
   "execution_count": 61,
   "id": "d0fb547f-2599-4a8e-a354-64e64b5e9aff",
   "metadata": {},
   "outputs": [],
   "source": [
    "from functools import reduce"
   ]
  },
  {
   "cell_type": "code",
   "execution_count": 64,
   "id": "7d0aba0f-66a9-4ced-88b4-90e8a71f777b",
   "metadata": {},
   "outputs": [],
   "source": [
    "b=[1,2,3,4,5,6,7,8,9,10,11,12,13,14,15,16,17,18,19,20,21,22,23,24,25]"
   ]
  },
  {
   "cell_type": "code",
   "execution_count": 65,
   "id": "d318121c-bec3-4432-b0d0-085a9d9fa9bc",
   "metadata": {},
   "outputs": [
    {
     "data": {
      "text/plain": [
       "15511210043330985984000000"
      ]
     },
     "execution_count": 65,
     "metadata": {},
     "output_type": "execute_result"
    }
   ],
   "source": [
    "reduce(lambda x,y : x*y ,b)"
   ]
  },
  {
   "cell_type": "markdown",
   "id": "88d6f212-ce87-41fa-8985-c2d681ea63b6",
   "metadata": {},
   "source": [
    "Q.5 Write a python program to filter the number in a given list that are divisible by 2 and 3 using given list.\n",
    "[2,3,6,9,27,60,90,120,55,46]"
   ]
  },
  {
   "cell_type": "code",
   "execution_count": 22,
   "id": "02cecb1b-4f0c-46d0-a4fe-c41f4e1dbeb7",
   "metadata": {},
   "outputs": [],
   "source": [
    "a=[2,3,6,9,27,60,90,120,55,46]"
   ]
  },
  {
   "cell_type": "code",
   "execution_count": 23,
   "id": "28be8614-334f-4e2b-a2fb-e6efb28e883a",
   "metadata": {},
   "outputs": [
    {
     "data": {
      "text/plain": [
       "[2, 3, 6, 9, 27, 60, 90, 120, 55, 46]"
      ]
     },
     "execution_count": 23,
     "metadata": {},
     "output_type": "execute_result"
    }
   ],
   "source": [
    "a"
   ]
  },
  {
   "cell_type": "code",
   "execution_count": 26,
   "id": "e908a6f0-346c-4502-a81f-ef3f253e89a7",
   "metadata": {},
   "outputs": [
    {
     "data": {
      "text/plain": [
       "[2, 6, 60, 90, 120, 46]"
      ]
     },
     "execution_count": 26,
     "metadata": {},
     "output_type": "execute_result"
    }
   ],
   "source": [
    "list(filter(lambda x:x%2==0 ,a))"
   ]
  },
  {
   "cell_type": "code",
   "execution_count": 27,
   "id": "8d8584fe-ef0e-4f26-835a-8563b17e3838",
   "metadata": {},
   "outputs": [
    {
     "data": {
      "text/plain": [
       "[3, 6, 9, 27, 60, 90, 120]"
      ]
     },
     "execution_count": 27,
     "metadata": {},
     "output_type": "execute_result"
    }
   ],
   "source": [
    "list(filter(lambda x:x%3==0 ,a))"
   ]
  },
  {
   "cell_type": "markdown",
   "id": "ceb3a91a-8785-4cac-aa2e-76fd3f5a678d",
   "metadata": {},
   "source": [
    "Q.6 Write a python program to find palindromes in the given list of strings using lambda and filter function.\n",
    "['python','php','aba','radar','level']"
   ]
  },
  {
   "cell_type": "code",
   "execution_count": 28,
   "id": "97b663bb-c2eb-417a-ba0c-6ff9bd1d99c8",
   "metadata": {},
   "outputs": [],
   "source": [
    "g=['python','php','aba','radar','level']"
   ]
  },
  {
   "cell_type": "code",
   "execution_count": 38,
   "id": "3849471b-a0ec-48e2-9477-738fde523253",
   "metadata": {},
   "outputs": [
    {
     "data": {
      "text/plain": [
       "['python', 'php', 'aba', 'radar', 'level']"
      ]
     },
     "execution_count": 38,
     "metadata": {},
     "output_type": "execute_result"
    }
   ],
   "source": [
    "g"
   ]
  },
  {
   "cell_type": "code",
   "execution_count": 41,
   "id": "59aeacf2-5a6f-48ce-b5cd-a12dc824cb18",
   "metadata": {},
   "outputs": [
    {
     "data": {
      "text/plain": [
       "['php', 'aba', 'radar', 'level']"
      ]
     },
     "execution_count": 41,
     "metadata": {},
     "output_type": "execute_result"
    }
   ],
   "source": [
    "list(filter(lambda x:(x==\"\".join(reversed(x))),g))"
   ]
  },
  {
   "cell_type": "code",
   "execution_count": null,
   "id": "539c3f62-6cca-46b4-a23b-f1606c39cac1",
   "metadata": {},
   "outputs": [],
   "source": []
  }
 ],
 "metadata": {
  "kernelspec": {
   "display_name": "Python 3 (ipykernel)",
   "language": "python",
   "name": "python3"
  },
  "language_info": {
   "codemirror_mode": {
    "name": "ipython",
    "version": 3
   },
   "file_extension": ".py",
   "mimetype": "text/x-python",
   "name": "python",
   "nbconvert_exporter": "python",
   "pygments_lexer": "ipython3",
   "version": "3.10.8"
  }
 },
 "nbformat": 4,
 "nbformat_minor": 5
}
